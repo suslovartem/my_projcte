{
  "nbformat": 4,
  "nbformat_minor": 0,
  "metadata": {
    "colab": {
      "provenance": [],
      "authorship_tag": "ABX9TyN+WTAcAlo5PSWMmTD0gCvi"
    },
    "kernelspec": {
      "name": "python3",
      "display_name": "Python 3"
    },
    "language_info": {
      "name": "python"
    }
  },
  "cells": [
    {
      "cell_type": "code",
      "execution_count": 13,
      "metadata": {
        "colab": {
          "base_uri": "https://localhost:8080/"
        },
        "id": "WSwIZTuo7M8X",
        "outputId": "bbf08e11-84b5-46f6-bd4f-0d7325577a37"
      },
      "outputs": [
        {
          "output_type": "stream",
          "name": "stdout",
          "text": [
            "k1 = 0.01\n",
            "k2 = 0.59\n",
            "Уравнение линейной регрессии:\n",
            "flippe_length_mm = 0.01 * body_mass_g + 0.59 * culmen_legth_mm\n"
          ]
        }
      ],
      "source": [
        "import pandas as pd\n",
        "from sklearn.linear_model import LinearRegression\n",
        "from sklearn.model_selection import train_test_split\n",
        "import numpy as np\n",
        "data = pd.read_csv(\"penguins_size.csv\")\n",
        "data = data.dropna()\n",
        "x = data[[\"body_mass_g\", \"culmen_length_mm\"]]\n",
        "y = data[\"flipper_length_mm\"]\n",
        "x_train, x_test, y_train, y_test = train_test_split(x, y, test_size = 0.2, random_state = 42)\n",
        "model = LinearRegression()\n",
        "model.fit(x_train, y_train)\n",
        "k1 = model.coef_[0]\n",
        "k2 = model.coef_[1]\n",
        "equation = f'flippe_length_mm = {k1:.2f} * body_mass_g + {k2:.2f} * culmen_legth_mm'\n",
        "print(f'k1 = {k1:.2f}')\n",
        "print(f'k2 = {k2:.2f}')\n",
        "print(\"Уравнение линейной регрессии:\")\n",
        "print(equation)"
      ]
    }
  ]
}